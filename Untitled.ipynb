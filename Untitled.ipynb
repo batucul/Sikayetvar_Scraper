{
 "cells": [
  {
   "cell_type": "code",
   "execution_count": null,
   "id": "875ce3fc",
   "metadata": {},
   "outputs": [],
   "source": [
    "from a import b\n",
    "\n",
    "\n",
    "biraz daha deneme yapalım"
   ]
  }
 ],
 "metadata": {
  "kernelspec": {
   "display_name": "Python 3.6.13 64-bit ('textmining': conda)",
   "language": "python",
   "name": "python3613jvsc74a57bd039402d8c53e7b5f8238ecd7e7442f9fd755a082c361f47a4003e84ba9dfc6c39"
  },
  "language_info": {
   "codemirror_mode": {
    "name": "ipython",
    "version": 3
   },
   "file_extension": ".py",
   "mimetype": "text/x-python",
   "name": "python",
   "nbconvert_exporter": "python",
   "pygments_lexer": "ipython3",
   "version": "3.6.13"
  }
 },
 "nbformat": 4,
 "nbformat_minor": 5
}
